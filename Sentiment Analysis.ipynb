{
  "cells": [
    {
      "cell_type": "markdown",
      "metadata": {
        "id": "MV7NnNaoEW3s"
      },
      "source": [
        "#Loading and Preprocessing"
      ]
    },
    {
      "cell_type": "code",
      "execution_count": null,
      "metadata": {
        "colab": {
          "base_uri": "https://localhost:8080/"
        },
        "id": "2GjQc4f-EEQ9",
        "outputId": "bf52d8ad-fb14-41b8-8127-a13e4dfeafd2"
      },
      "outputs": [
        {
          "name": "stdout",
          "output_type": "stream",
          "text": [
            "Downloading data from https://storage.googleapis.com/tensorflow/tf-keras-datasets/imdb.npz\n",
            "\u001b[1m17464789/17464789\u001b[0m \u001b[32m━━━━━━━━━━━━━━━━━━━━\u001b[0m\u001b[37m\u001b[0m \u001b[1m0s\u001b[0m 0us/step\n",
            "Training data shape: (25000, 500)\n",
            "Test data shape: (25000, 500)\n"
          ]
        }
      ],
      "source": [
        "import tensorflow as tf\n",
        "from tensorflow.keras.preprocessing.sequence import pad_sequences\n",
        "\n",
        "# Load the IMDB dataset\n",
        "num_words = 10000 # Use top 10,000 words\n",
        "(X_train, y_train), (X_test, y_test) = tf.keras.datasets.imdb.load_data(num_words=num_words)\n",
        "\n",
        "# Pad the sequences to ensure all reviews have the same length\n",
        "maxlen = 500 # Maximum review length (in number of words)\n",
        "X_train = pad_sequences(X_train, maxlen=maxlen)\n",
        "X_test = pad_sequences(X_test, maxlen=maxlen)\n",
        "\n",
        "# Check shapes of the data\n",
        "print(f\"Training data shape: {X_train.shape}\")\n",
        "print(f\"Test data shape: {X_test.shape}\")"
      ]
    },
    {
      "cell_type": "markdown",
      "metadata": {
        "id": "S7LkG9EiElhE"
      },
      "source": [
        "#Creating RNN Model"
      ]
    },
    {
      "cell_type": "code",
      "execution_count": null,
      "metadata": {
        "colab": {
          "base_uri": "https://localhost:8080/"
        },
        "id": "5tBRz7GEEpLC",
        "outputId": "2d4ac920-febe-4254-ba34-f9edee09f377"
      },
      "outputs": [
        {
          "name": "stderr",
          "output_type": "stream",
          "text": [
            "/usr/local/lib/python3.10/dist-packages/keras/src/layers/core/embedding.py:90: UserWarning: Argument `input_length` is deprecated. Just remove it.\n",
            "  warnings.warn(\n"
          ]
        },
        {
          "name": "stdout",
          "output_type": "stream",
          "text": [
            "Epoch 1/5\n",
            "\u001b[1m391/391\u001b[0m \u001b[32m━━━━━━━━━━━━━━━━━━━━\u001b[0m\u001b[37m\u001b[0m \u001b[1m38s\u001b[0m 90ms/step - accuracy: 0.5551 - loss: 61.3357 - val_accuracy: 0.5632 - val_loss: 0.7001\n",
            "Epoch 2/5\n",
            "\u001b[1m391/391\u001b[0m \u001b[32m━━━━━━━━━━━━━━━━━━━━\u001b[0m\u001b[37m\u001b[0m \u001b[1m27s\u001b[0m 70ms/step - accuracy: 0.6002 - loss: 215.8922 - val_accuracy: 0.6682 - val_loss: 0.5954\n",
            "Epoch 3/5\n",
            "\u001b[1m391/391\u001b[0m \u001b[32m━━━━━━━━━━━━━━━━━━━━\u001b[0m\u001b[37m\u001b[0m \u001b[1m41s\u001b[0m 71ms/step - accuracy: 0.7498 - loss: 0.5043 - val_accuracy: 0.7782 - val_loss: 0.4727\n",
            "Epoch 4/5\n",
            "\u001b[1m391/391\u001b[0m \u001b[32m━━━━━━━━━━━━━━━━━━━━\u001b[0m\u001b[37m\u001b[0m \u001b[1m41s\u001b[0m 70ms/step - accuracy: 0.8563 - loss: 0.3410 - val_accuracy: 0.8148 - val_loss: 0.4224\n",
            "Epoch 5/5\n",
            "\u001b[1m391/391\u001b[0m \u001b[32m━━━━━━━━━━━━━━━━━━━━\u001b[0m\u001b[37m\u001b[0m \u001b[1m28s\u001b[0m 70ms/step - accuracy: 0.8986 - loss: 0.2515 - val_accuracy: 0.8157 - val_loss: 0.4172\n",
            "\u001b[1m782/782\u001b[0m \u001b[32m━━━━━━━━━━━━━━━━━━━━\u001b[0m\u001b[37m\u001b[0m \u001b[1m17s\u001b[0m 22ms/step - accuracy: 0.8123 - loss: 0.4235\n",
            "RNN Test Accuracy: 0.8157\n"
          ]
        }
      ],
      "source": [
        "from tensorflow.keras.models import Sequential\n",
        "from tensorflow.keras.layers import SimpleRNN, Dense, Embedding\n",
        "from tensorflow.keras.optimizers import Adam\n",
        "\n",
        "# Build the RNN model\n",
        "model_rnn = Sequential()\n",
        "model_rnn.add(Embedding(input_dim=num_words, output_dim=128, input_length=maxlen))\n",
        "model_rnn.add(SimpleRNN(128, activation='relu'))\n",
        "model_rnn.add(Dense(1, activation='sigmoid')) # Sigmoid for binary classification\n",
        "\n",
        "# Compile the model\n",
        "model_rnn.compile(optimizer=Adam(), loss= 'binary_crossentropy', metrics=['accuracy'])\n",
        "\n",
        "# Train the model\n",
        "model_rnn.fit(X_train, y_train, epochs=5, batch_size=64, validation_data=(X_test, y_test))\n",
        "\n",
        "# Evaluate the model\n",
        "rnn_loss, rnn_acc = model_rnn.evaluate(X_test, y_test)\n",
        "print(f\"RNN Test Accuracy: {rnn_acc:.4f}\")"
      ]
    },
    {
      "cell_type": "markdown",
      "metadata": {
        "id": "IUroIq6cFHa5"
      },
      "source": [
        "# Implementing an LTSM Model for Sentiment Analysis"
      ]
    },
    {
      "cell_type": "code",
      "execution_count": null,
      "metadata": {
        "colab": {
          "base_uri": "https://localhost:8080/"
        },
        "id": "MweyAJ04FNFZ",
        "outputId": "ea25e500-810a-40bf-df8d-f844326b4f93"
      },
      "outputs": [
        {
          "name": "stdout",
          "output_type": "stream",
          "text": [
            "Epoch 1/5\n",
            "\u001b[1m391/391\u001b[0m \u001b[32m━━━━━━━━━━━━━━━━━━━━\u001b[0m\u001b[37m\u001b[0m \u001b[1m40s\u001b[0m 94ms/step - accuracy: 0.5103 - loss: nan - val_accuracy: 0.5000 - val_loss: nan\n",
            "Epoch 2/5\n",
            "\u001b[1m391/391\u001b[0m \u001b[32m━━━━━━━━━━━━━━━━━━━━\u001b[0m\u001b[37m\u001b[0m \u001b[1m35s\u001b[0m 89ms/step - accuracy: 0.4949 - loss: nan - val_accuracy: 0.5000 - val_loss: nan\n",
            "Epoch 3/5\n",
            "\u001b[1m391/391\u001b[0m \u001b[32m━━━━━━━━━━━━━━━━━━━━\u001b[0m\u001b[37m\u001b[0m \u001b[1m41s\u001b[0m 88ms/step - accuracy: 0.5000 - loss: nan - val_accuracy: 0.5000 - val_loss: nan\n",
            "Epoch 4/5\n",
            "\u001b[1m391/391\u001b[0m \u001b[32m━━━━━━━━━━━━━━━━━━━━\u001b[0m\u001b[37m\u001b[0m \u001b[1m41s\u001b[0m 89ms/step - accuracy: 0.4974 - loss: nan - val_accuracy: 0.5000 - val_loss: nan\n",
            "Epoch 5/5\n",
            "\u001b[1m391/391\u001b[0m \u001b[32m━━━━━━━━━━━━━━━━━━━━\u001b[0m\u001b[37m\u001b[0m \u001b[1m41s\u001b[0m 89ms/step - accuracy: 0.4953 - loss: nan - val_accuracy: 0.5000 - val_loss: nan\n",
            "\u001b[1m782/782\u001b[0m \u001b[32m━━━━━━━━━━━━━━━━━━━━\u001b[0m\u001b[37m\u001b[0m \u001b[1m20s\u001b[0m 25ms/step - accuracy: 0.5073 - loss: nan\n",
            "LSTM Test Accuracy: 0.5000\n"
          ]
        }
      ],
      "source": [
        "from tensorflow.keras.layers import LSTM\n",
        "\n",
        "# Build the LSTM model\n",
        "model_lstm = Sequential()\n",
        "model_lstm.add(Embedding(input_dim=num_words, output_dim=128, input_length=maxlen))\n",
        "model_lstm.add(LSTM(128, activation= 'relu'))\n",
        "model_lstm.add(Dense(1, activation= 'sigmoid')) # Sigmoid for binary classification\n",
        "\n",
        "# Compile the model\n",
        "model_lstm.compile(optimizer=Adam(), loss= 'binary_crossentropy', metrics=['accuracy'])\n",
        "\n",
        "# Train the model\n",
        "model_lstm.fit(X_train, y_train, epochs=5, batch_size=64, validation_data=(X_test, y_test))\n",
        "\n",
        "# Evaluate the model\n",
        "lstm_loss, lstm_acc = model_lstm.evaluate(X_test, y_test)\n",
        "print(f\"LSTM Test Accuracy: {lstm_acc:.4f}\")"
      ]
    },
    {
      "cell_type": "markdown",
      "metadata": {
        "id": "-ltgAmnuFknq"
      },
      "source": [
        "# Implementing a GRU Model for Sentiment Analysis"
      ]
    },
    {
      "cell_type": "code",
      "execution_count": null,
      "metadata": {
        "colab": {
          "base_uri": "https://localhost:8080/"
        },
        "id": "8loUwnl0Fj2H",
        "outputId": "2f415386-6323-4fb8-ae61-7ad070ee6bea"
      },
      "outputs": [
        {
          "name": "stdout",
          "output_type": "stream",
          "text": [
            "Epoch 1/5\n"
          ]
        },
        {
          "name": "stderr",
          "output_type": "stream",
          "text": [
            "/usr/local/lib/python3.10/dist-packages/keras/src/layers/core/embedding.py:90: UserWarning: Argument `input_length` is deprecated. Just remove it.\n",
            "  warnings.warn(\n"
          ]
        },
        {
          "name": "stdout",
          "output_type": "stream",
          "text": [
            "\u001b[1m391/391\u001b[0m \u001b[32m━━━━━━━━━━━━━━━━━━━━\u001b[0m\u001b[37m\u001b[0m \u001b[1m52s\u001b[0m 124ms/step - accuracy: 0.5194 - loss: nan - val_accuracy: 0.5000 - val_loss: nan\n",
            "Epoch 2/5\n",
            "\u001b[1m391/391\u001b[0m \u001b[32m━━━━━━━━━━━━━━━━━━━━\u001b[0m\u001b[37m\u001b[0m \u001b[1m78s\u001b[0m 117ms/step - accuracy: 0.5000 - loss: nan - val_accuracy: 0.5000 - val_loss: nan\n",
            "Epoch 3/5\n",
            "\u001b[1m391/391\u001b[0m \u001b[32m━━━━━━━━━━━━━━━━━━━━\u001b[0m\u001b[37m\u001b[0m \u001b[1m82s\u001b[0m 117ms/step - accuracy: 0.5002 - loss: nan - val_accuracy: 0.5000 - val_loss: nan\n",
            "Epoch 4/5\n",
            "\u001b[1m391/391\u001b[0m \u001b[32m━━━━━━━━━━━━━━━━━━━━\u001b[0m\u001b[37m\u001b[0m \u001b[1m82s\u001b[0m 117ms/step - accuracy: 0.4981 - loss: nan - val_accuracy: 0.5000 - val_loss: nan\n",
            "Epoch 5/5\n",
            "\u001b[1m391/391\u001b[0m \u001b[32m━━━━━━━━━━━━━━━━━━━━\u001b[0m\u001b[37m\u001b[0m \u001b[1m82s\u001b[0m 117ms/step - accuracy: 0.5011 - loss: nan - val_accuracy: 0.5000 - val_loss: nan\n",
            "\u001b[1m782/782\u001b[0m \u001b[32m━━━━━━━━━━━━━━━━━━━━\u001b[0m\u001b[37m\u001b[0m \u001b[1m17s\u001b[0m 21ms/step - accuracy: 0.5073 - loss: nan\n",
            "GRU Test Accuracy: 0.5000\n"
          ]
        }
      ],
      "source": [
        "from tensorflow.keras.layers import GRU\n",
        "\n",
        "# Build the GRU model\n",
        "model_gru = Sequential()\n",
        "model_gru.add(Embedding(input_dim=num_words, output_dim=128, input_length=maxlen))\n",
        "model_gru.add(GRU(128, activation= 'relu'))\n",
        "model_gru.add(Dense(1, activation= 'sigmoid')) # Sigmoid for binary classification\n",
        "\n",
        "# Compile the model\n",
        "model_gru.compile(optimizer=Adam(), loss= 'binary_crossentropy', metrics=['accuracy'])\n",
        "\n",
        "# Train the model\n",
        "model_gru.fit(X_train, y_train, epochs=5, batch_size=64, validation_data=(X_test, y_test))\n",
        "\n",
        "# Evaluate the model\n",
        "gru_loss, gru_acc = model_gru.evaluate(X_test, y_test)\n",
        "print(f\"GRU Test Accuracy: {gru_acc:.4f}\")"
      ]
    },
    {
      "cell_type": "markdown",
      "metadata": {
        "id": "WE_nt8LzF9aJ"
      },
      "source": [
        "# Comparing the Performance of RNN, LSTM, and GRU"
      ]
    },
    {
      "cell_type": "code",
      "execution_count": null,
      "metadata": {
        "colab": {
          "base_uri": "https://localhost:8080/",
          "height": 545
        },
        "id": "AE1V5onsGAZe",
        "outputId": "1442615e-ff45-4f2b-c04f-377cb8211635"
      },
      "outputs": [
        {
          "data": {
            "image/png": "[encoded data removed]",
            "text/plain": [
              "<Figure size 1000x600 with 1 Axes>"
            ]
          },
          "metadata": {},
          "output_type": "display_data"
        }
      ],
      "source": [
        "import matplotlib.pyplot as plt\n",
        "\n",
        "# Store the accuracy values for comparison\n",
        "rnn_accs = [rnn_acc]\n",
        "lstm_accs = [lstm_acc]\n",
        "gru_accs = [gru_acc]\n",
        "\n",
        "# Plotting the accuracies of each model\n",
        "plt.figure(figsize=(10, 6))\n",
        "plt.bar(['RNN', 'LSTM', 'GRU'], [rnn_acc, lstm_acc, gru_acc], color=['blue', 'green', 'red'])\n",
        "plt.title(\"Model Comparison: Test Accuracy\")\n",
        "plt.ylabel(\"Accuracy\")\n",
        "plt.show()"
      ]
    },
    {
      "cell_type": "markdown",
      "metadata": {
        "id": "6joLilHLP8uE"
      },
      "source": [
        "# Additional Experiment"
      ]
    },
    {
      "cell_type": "code",
      "execution_count": null,
      "metadata": {
        "id": "j0Nl2XQd-oSe"
      },
      "outputs": [],
      "source": [
        "import tensorflow as tf\n",
        "from tensorflow.keras.preprocessing.sequence import pad_sequences\n",
        "from tensorflow.keras.preprocessing.text import Tokenizer\n",
        "from sklearn.datasets import fetch_20newsgroups\n",
        "from sklearn.model_selection import train_test_split\n",
        "from sklearn.preprocessing import LabelEncoder"
      ]
    },
    {
      "cell_type": "code",
      "execution_count": null,
      "metadata": {
        "id": "U4bVbipC-pZK"
      },
      "outputs": [],
      "source": [
        "# Load the 20 Newsgroups dataset\n",
        "newsgroups = fetch_20newsgroups(subset='all')\n",
        "texts, labels = newsgroups.data, newsgroups.target"
      ]
    },
    {
      "cell_type": "code",
      "execution_count": null,
      "metadata": {
        "id": "pXb1cA0x-qoC"
      },
      "outputs": [],
      "source": [
        "# Tokenize the texts\n",
        "num_words = 10000  # Use top 10,000 words\n",
        "tokenizer = Tokenizer(num_words=num_words)\n",
        "tokenizer.fit_on_texts(texts)"
      ]
    },
    {
      "cell_type": "code",
      "execution_count": null,
      "metadata": {
        "id": "anfUY6Pz-ruE"
      },
      "outputs": [],
      "source": [
        "# Convert texts to sequences\n",
        "sequences = tokenizer.texts_to_sequences(texts)"
      ]
    },
    {
      "cell_type": "code",
      "execution_count": null,
      "metadata": {
        "id": "CUmlZGOB-s-A"
      },
      "outputs": [],
      "source": [
        "# Pad the sequences to ensure uniform length\n",
        "maxlen = 500  # Maximum document length (in number of words)\n",
        "X = pad_sequences(sequences, maxlen=maxlen)"
      ]
    },
    {
      "cell_type": "code",
      "execution_count": null,
      "metadata": {
        "id": "w3WrfocB-uEh"
      },
      "outputs": [],
      "source": [
        "# Encode the labels into integers\n",
        "encoder = LabelEncoder()\n",
        "y = encoder.fit_transform(labels)"
      ]
    },
    {
      "cell_type": "code",
      "execution_count": null,
      "metadata": {
        "colab": {
          "base_uri": "https://localhost:8080/"
        },
        "id": "7TmDJL3W-w-Y",
        "outputId": "1e5c9d85-aebc-47f4-fffd-7641b41bd9d8"
      },
      "outputs": [
        {
          "name": "stdout",
          "output_type": "stream",
          "text": [
            "Training data shape: (15076, 500)\n",
            "Test data shape: (3770, 500)\n"
          ]
        }
      ],
      "source": [
        "# Split data into training and testing sets\n",
        "X_train, X_test, y_train, y_test = train_test_split(X, y, test_size=0.2, random_state=42)\n",
        "\n",
        "# Check shapes of the data\n",
        "print(f\"Training data shape: {X_train.shape}\")\n",
        "print(f\"Test data shape: {X_test.shape}\")"
      ]
    },
    {
      "cell_type": "code",
      "execution_count": null,
      "metadata": {
        "id": "LyK_x9sh-yay"
      },
      "outputs": [],
      "source": [
        "# Number of categories\n",
        "num_classes = len(newsgroups.target_names)"
      ]
    },
    {
      "cell_type": "code",
      "execution_count": null,
      "metadata": {
        "id": "3-AArDk2_dLp"
      },
      "outputs": [],
      "source": [
        "from tensorflow.keras.models import Sequential\n",
        "from tensorflow.keras.layers import SimpleRNN, Dense, Embedding\n",
        "from tensorflow.keras.optimizers import Adam"
      ]
    },
    {
      "cell_type": "code",
      "execution_count": null,
      "metadata": {
        "colab": {
          "base_uri": "https://localhost:8080/"
        },
        "id": "12YmjlCh-0Zk",
        "outputId": "b0ef0a17-f6b0-42e3-bf17-6262528fbb76"
      },
      "outputs": [
        {
          "name": "stdout",
          "output_type": "stream",
          "text": [
            "Epoch 1/5\n",
            "\u001b[1m236/236\u001b[0m \u001b[32m━━━━━━━━━━━━━━━━━━━━\u001b[0m\u001b[37m\u001b[0m \u001b[1m19s\u001b[0m 66ms/step - accuracy: 0.1526 - loss: 46.6692 - val_accuracy: 0.2989 - val_loss: 2.8418\n",
            "Epoch 2/5\n",
            "\u001b[1m236/236\u001b[0m \u001b[32m━━━━━━━━━━━━━━━━━━━━\u001b[0m\u001b[37m\u001b[0m \u001b[1m17s\u001b[0m 58ms/step - accuracy: 0.3931 - loss: 2.7689 - val_accuracy: 0.3347 - val_loss: 2.6501\n",
            "Epoch 3/5\n",
            "\u001b[1m236/236\u001b[0m \u001b[32m━━━━━━━━━━━━━━━━━━━━\u001b[0m\u001b[37m\u001b[0m \u001b[1m21s\u001b[0m 58ms/step - accuracy: 0.4566 - loss: 2.4705 - val_accuracy: 0.3663 - val_loss: 2.3587\n",
            "Epoch 4/5\n",
            "\u001b[1m236/236\u001b[0m \u001b[32m━━━━━━━━━━━━━━━━━━━━\u001b[0m\u001b[37m\u001b[0m \u001b[1m14s\u001b[0m 58ms/step - accuracy: 0.5343 - loss: 2.0559 - val_accuracy: 0.3194 - val_loss: 2.4607\n",
            "Epoch 5/5\n",
            "\u001b[1m236/236\u001b[0m \u001b[32m━━━━━━━━━━━━━━━━━━━━\u001b[0m\u001b[37m\u001b[0m \u001b[1m20s\u001b[0m 58ms/step - accuracy: 0.4654 - loss: 2.1941 - val_accuracy: 0.3729 - val_loss: 2.3073\n",
            "\u001b[1m118/118\u001b[0m \u001b[32m━━━━━━━━━━━━━━━━━━━━\u001b[0m\u001b[37m\u001b[0m \u001b[1m4s\u001b[0m 29ms/step - accuracy: 0.3722 - loss: 2.3198\n",
            "RNN Test Accuracy: 0.3729\n"
          ]
        }
      ],
      "source": [
        "# Build the RNN model\n",
        "model_rnn = Sequential()\n",
        "model_rnn.add(Embedding(input_dim=num_words, output_dim=128, input_length=maxlen))\n",
        "model_rnn.add(SimpleRNN(128, activation='relu'))\n",
        "model_rnn.add(Dense(num_classes, activation='sigmoid'))  # Sigmoid for multi-class classification\n",
        "\n",
        "# Compile the model\n",
        "model_rnn.compile(optimizer=Adam(), loss='sparse_categorical_crossentropy', metrics=['accuracy'])\n",
        "\n",
        "# Train the model\n",
        "model_rnn.fit(X_train, y_train, epochs=5, batch_size=64, validation_data=(X_test, y_test))\n",
        "\n",
        "# Evaluate the model\n",
        "rnn_loss, rnn_acc = model_rnn.evaluate(X_test, y_test)\n",
        "print(f\"RNN Test Accuracy: {rnn_acc:.4f}\")"
      ]
    },
    {
      "cell_type": "code",
      "execution_count": null,
      "metadata": {
        "colab": {
          "base_uri": "https://localhost:8080/"
        },
        "id": "FuvnHCYV-2DT",
        "outputId": "30429a11-af8e-44dc-a5a6-f88b3e02541e"
      },
      "outputs": [
        {
          "name": "stdout",
          "output_type": "stream",
          "text": [
            "Epoch 1/5\n",
            "\u001b[1m236/236\u001b[0m \u001b[32m━━━━━━━━━━━━━━━━━━━━\u001b[0m\u001b[37m\u001b[0m \u001b[1m23s\u001b[0m 87ms/step - accuracy: 0.0571 - loss: nan - val_accuracy: 0.0361 - val_loss: nan\n",
            "Epoch 2/5\n",
            "\u001b[1m236/236\u001b[0m \u001b[32m━━━━━━━━━━━━━━━━━━━━\u001b[0m\u001b[37m\u001b[0m \u001b[1m17s\u001b[0m 71ms/step - accuracy: 0.0310 - loss: nan - val_accuracy: 0.0361 - val_loss: nan\n",
            "Epoch 3/5\n",
            "\u001b[1m236/236\u001b[0m \u001b[32m━━━━━━━━━━━━━━━━━━━━\u001b[0m\u001b[37m\u001b[0m \u001b[1m21s\u001b[0m 72ms/step - accuracy: 0.0300 - loss: nan - val_accuracy: 0.0361 - val_loss: nan\n",
            "Epoch 4/5\n",
            "\u001b[1m236/236\u001b[0m \u001b[32m━━━━━━━━━━━━━━━━━━━━\u001b[0m\u001b[37m\u001b[0m \u001b[1m17s\u001b[0m 71ms/step - accuracy: 0.0341 - loss: nan - val_accuracy: 0.0361 - val_loss: nan\n",
            "Epoch 5/5\n",
            "\u001b[1m236/236\u001b[0m \u001b[32m━━━━━━━━━━━━━━━━━━━━\u001b[0m\u001b[37m\u001b[0m \u001b[1m21s\u001b[0m 72ms/step - accuracy: 0.0310 - loss: nan - val_accuracy: 0.0361 - val_loss: nan\n",
            "\u001b[1m118/118\u001b[0m \u001b[32m━━━━━━━━━━━━━━━━━━━━\u001b[0m\u001b[37m\u001b[0m \u001b[1m3s\u001b[0m 24ms/step - accuracy: 0.0398 - loss: nan\n",
            "LSTM Test Accuracy: 0.0361\n"
          ]
        }
      ],
      "source": [
        "from tensorflow.keras.layers import LSTM\n",
        "\n",
        "# Build the LSTM model\n",
        "model_lstm = Sequential()\n",
        "model_lstm.add(Embedding(input_dim=num_words, output_dim=128, input_length=maxlen))\n",
        "model_lstm.add(LSTM(128, activation='relu'))\n",
        "model_lstm.add(Dense(num_classes, activation='sigmoid'))  # Sigmoid for multi-class classification\n",
        "\n",
        "# Compile the model\n",
        "model_lstm.compile(optimizer=Adam(), loss='sparse_categorical_crossentropy', metrics=['accuracy'])\n",
        "\n",
        "# Train the model\n",
        "model_lstm.fit(X_train, y_train, epochs=5, batch_size=64, validation_data=(X_test, y_test))\n",
        "\n",
        "# Evaluate the model\n",
        "lstm_loss, lstm_acc = model_lstm.evaluate(X_test, y_test)\n",
        "print(f\"LSTM Test Accuracy: {lstm_acc:.4f}\")"
      ]
    },
    {
      "cell_type": "code",
      "execution_count": null,
      "metadata": {
        "colab": {
          "base_uri": "https://localhost:8080/"
        },
        "id": "AiasAyWr-37x",
        "outputId": "5dd94eeb-486d-48ab-c322-abfc58b4f7fe"
      },
      "outputs": [
        {
          "name": "stdout",
          "output_type": "stream",
          "text": [
            "Epoch 1/5\n",
            "\u001b[1m236/236\u001b[0m \u001b[32m━━━━━━━━━━━━━━━━━━━━\u001b[0m\u001b[37m\u001b[0m \u001b[1m29s\u001b[0m 111ms/step - accuracy: 0.0743 - loss: nan - val_accuracy: 0.0361 - val_loss: nan\n",
            "Epoch 2/5\n",
            "\u001b[1m236/236\u001b[0m \u001b[32m━━━━━━━━━━━━━━━━━━━━\u001b[0m\u001b[37m\u001b[0m \u001b[1m25s\u001b[0m 104ms/step - accuracy: 0.0332 - loss: nan - val_accuracy: 0.0361 - val_loss: nan\n",
            "Epoch 3/5\n",
            "\u001b[1m236/236\u001b[0m \u001b[32m━━━━━━━━━━━━━━━━━━━━\u001b[0m\u001b[37m\u001b[0m \u001b[1m41s\u001b[0m 105ms/step - accuracy: 0.0311 - loss: nan - val_accuracy: 0.0361 - val_loss: nan\n",
            "Epoch 4/5\n",
            "\u001b[1m236/236\u001b[0m \u001b[32m━━━━━━━━━━━━━━━━━━━━\u001b[0m\u001b[37m\u001b[0m \u001b[1m41s\u001b[0m 104ms/step - accuracy: 0.0330 - loss: nan - val_accuracy: 0.0361 - val_loss: nan\n",
            "Epoch 5/5\n",
            "\u001b[1m236/236\u001b[0m \u001b[32m━━━━━━━━━━━━━━━━━━━━\u001b[0m\u001b[37m\u001b[0m \u001b[1m41s\u001b[0m 105ms/step - accuracy: 0.0326 - loss: nan - val_accuracy: 0.0361 - val_loss: nan\n",
            "\u001b[1m118/118\u001b[0m \u001b[32m━━━━━━━━━━━━━━━━━━━━\u001b[0m\u001b[37m\u001b[0m \u001b[1m3s\u001b[0m 26ms/step - accuracy: 0.0398 - loss: nan\n",
            "GRU Test Accuracy: 0.0361\n"
          ]
        }
      ],
      "source": [
        "from tensorflow.keras.layers import GRU\n",
        "\n",
        "# Build the GRU model\n",
        "model_gru = Sequential()\n",
        "model_gru.add(Embedding(input_dim=num_words, output_dim=128, input_length=maxlen))\n",
        "model_gru.add(GRU(128, activation='relu'))\n",
        "model_gru.add(Dense(num_classes, activation='softmax'))  # Softmax for multi-class classification\n",
        "\n",
        "# Compile the model\n",
        "model_gru.compile(optimizer=Adam(), loss='sparse_categorical_crossentropy', metrics=['accuracy'])\n",
        "\n",
        "# Train the model\n",
        "model_gru.fit(X_train, y_train, epochs=5, batch_size=64, validation_data=(X_test, y_test))\n",
        "\n",
        "# Evaluate the model\n",
        "gru_loss, gru_acc = model_gru.evaluate(X_test, y_test)\n",
        "print(f\"GRU Test Accuracy: {gru_acc:.4f}\")"
      ]
    }
  ],
  "metadata": {
    "accelerator": "GPU",
    "colab": {
      "gpuType": "T4",
      "provenance": []
    },
    "kernelspec": {
      "display_name": "Python 3",
      "name": "python3"
    },
    "language_info": {
      "name": "python"
    }
  },
  "nbformat": 4,
  "nbformat_minor": 0
}
